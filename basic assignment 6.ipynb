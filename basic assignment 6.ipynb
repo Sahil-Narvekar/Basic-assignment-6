{
 "cells": [
  {
   "cell_type": "markdown",
   "metadata": {},
   "source": [
    "BASIC ASSIGNMENT 6"
   ]
  },
  {
   "cell_type": "code",
   "execution_count": null,
   "metadata": {},
   "outputs": [],
   "source": [
    "1. What are escape characters, and how do you use them?\n",
    "The backslash '\\' is used for escape characters and is used for representing certain whitespace characters.\n",
    "Example:print('apple\\torange') usage of \\t creates space between the word and output would be\n",
    "        output:apple\torange\n",
    "        print('apple\\norange') will create newline between the characters and hence output is\n",
    "        output:apple\n",
    "               orange\n",
    "        similarly '\\r' can be used to skip the characters before \\ and characters only after \\\n",
    "        are displayed."
   ]
  },
  {
   "cell_type": "markdown",
   "metadata": {},
   "source": [
    "2. What do the escape characters n and t stand for?\n",
    "ans)n stands for newline and t stands for tab in '\\n' and '\\t'respectively\n",
    "    print('apple\\torange') usage of \\t creates space between the word and output would be\n",
    "    output:apple\torange\n",
    "    print('apple\\norange') will create newline between the characters and hence output is\n",
    "    output:apple\n",
    "           orange"
   ]
  },
  {
   "cell_type": "code",
   "execution_count": null,
   "metadata": {},
   "outputs": [],
   "source": [
    "3. What is the way to include backslash characters in a string?\n",
    "Use the syntax '\\\\' within string  literal to represent a single backslash\n",
    "Example text='f\\\\k'\n",
    "        print(text)\n",
    "output:f\\k"
   ]
  },
  {
   "cell_type": "code",
   "execution_count": null,
   "metadata": {},
   "outputs": [],
   "source": [
    "4. The string \"Howl's Moving Castle\" is a correct value. Why isn't the single quote character in the\n",
    "word Howl's not escaped a problem?\n",
    "ans)In \"Howl's Moving Castle\" single quote doesn'create problems because double quote was used at start    and end of the string"
   ]
  },
  {
   "cell_type": "code",
   "execution_count": null,
   "metadata": {},
   "outputs": [],
   "source": [
    "5. How do you write a string of newlines if you don't want to use the n character?\n",
    "\n"
   ]
  },
  {
   "cell_type": "markdown",
   "metadata": {},
   "source": [
    "By using multiline strings that is putting 3 double quotes before and after the string\n",
    "as shown below"
   ]
  },
  {
   "cell_type": "code",
   "execution_count": null,
   "metadata": {},
   "outputs": [],
   "source": [
    "print(\"\"\" hey,\n",
    "hi,\n",
    "you\"\"\")"
   ]
  },
  {
   "cell_type": "code",
   "execution_count": null,
   "metadata": {},
   "outputs": [],
   "source": [
    "6. What are the values of the given expressions?\n",
    "\n",
    "'Hello, world!'[1] will give 'e'\n",
    "'Hello, world!'[0:5] will give 'Hello'\n",
    "'Hello, world!'[:5] will give  'Hello'\n",
    "'Hello, world!'[3:] will give  'lo, world!'\n"
   ]
  },
  {
   "cell_type": "code",
   "execution_count": null,
   "metadata": {},
   "outputs": [],
   "source": [
    "7. What are the values of the following expressions?\n",
    "\n",
    "'Hello'.upper() will give 'HELLO'\n",
    "'Hello'.upper().isupper() will give True\n",
    "'Hello'.upper().lower() will give 'hello'\n"
   ]
  },
  {
   "cell_type": "code",
   "execution_count": null,
   "metadata": {},
   "outputs": [],
   "source": [
    "8. What are the values of the following expressions?\n",
    "\n",
    "'Remember, remember, the fifth of July.'.split()\n",
    "output=['Remember,', 'remember,', 'the', 'fifth', 'of', 'July.']\n",
    "\n",
    "'-'.join('There can only one.'.split())\n",
    "output=['There-can-only-one.']"
   ]
  },
  {
   "cell_type": "code",
   "execution_count": null,
   "metadata": {},
   "outputs": [],
   "source": [
    "9. What are the methods for right-justifying, left-justifying, and centering a string?\n",
    "consider string 'hey there'\n",
    "s='hey there'\n",
    "\n",
    "left-justifying\n",
    "print(s.ljust(20,'-')) \n",
    "output:hey there-----------\n",
    "\n",
    "right-justifying\n",
    "print(s.rjust(20,'#'))\n",
    "output:###########hey there\n",
    "\n",
    "centering a string\n",
    "print(s.center(20,'+'))\n",
    "output:+++++hey there++++++"
   ]
  },
  {
   "cell_type": "code",
   "execution_count": null,
   "metadata": {},
   "outputs": [],
   "source": [
    "10. What is the best way to remove whitespace characters from the start or end?\n",
    "ans)strip function of string can be used to remove white spaces from beginning or end\n",
    "s='  hey there  '\n",
    "s.strip()\n",
    "output:'hey there'"
   ]
  },
  {
   "cell_type": "code",
   "execution_count": null,
   "metadata": {},
   "outputs": [],
   "source": []
  }
 ],
 "metadata": {
  "kernelspec": {
   "display_name": "Python 3",
   "language": "python",
   "name": "python3"
  },
  "language_info": {
   "codemirror_mode": {
    "name": "ipython",
    "version": 3
   },
   "file_extension": ".py",
   "mimetype": "text/x-python",
   "name": "python",
   "nbconvert_exporter": "python",
   "pygments_lexer": "ipython3",
   "version": "3.8.3"
  }
 },
 "nbformat": 4,
 "nbformat_minor": 4
}
